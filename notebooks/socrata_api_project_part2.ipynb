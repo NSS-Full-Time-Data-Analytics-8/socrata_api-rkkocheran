{
 "cells": [
  {
   "cell_type": "markdown",
   "id": "5c579712",
   "metadata": {},
   "source": [
    "# Socrata API Project"
   ]
  },
  {
   "cell_type": "markdown",
   "id": "6ffade56",
   "metadata": {},
   "source": [
    "This notebook uses the `requests` package and the SODA API to access data through https://data.nashville.gov/."
   ]
  },
  {
   "cell_type": "markdown",
   "id": "045b8c43",
   "metadata": {},
   "source": [
    "### Find 2 new data sets on data.nashville.gov, make API requests to pull the data, and do an analysis that combines the data sets.  "
   ]
  },
  {
   "cell_type": "markdown",
   "id": "506f26d4",
   "metadata": {},
   "source": [
    "##### Import the relevant modules and pull in the API data"
   ]
  },
  {
   "cell_type": "code",
   "execution_count": 1,
   "id": "d2c54a3b",
   "metadata": {},
   "outputs": [],
   "source": [
    "import requests\n",
    "import pandas as pd\n",
    "import seaborn as sns\n",
    "import matplotlib.pyplot as plt\n",
    "\n",
    "%matplotlib inline"
   ]
  },
  {
   "cell_type": "markdown",
   "id": "8d96a4a3",
   "metadata": {},
   "source": [
    "##### Pull in the siren API"
   ]
  },
  {
   "cell_type": "code",
   "execution_count": 2,
   "id": "fa67d0fb",
   "metadata": {
    "scrolled": true
   },
   "outputs": [
    {
     "data": {
      "text/plain": [
       "200"
      ]
     },
     "execution_count": 2,
     "metadata": {},
     "output_type": "execute_result"
    }
   ],
   "source": [
    "siren_ep = 'https://data.nashville.gov/resource/736j-2drk.json'\n",
    "\n",
    "siren_params = {\n",
    "    '$limit':200000 \n",
    "}\n",
    "\n",
    "siren_resp = requests.get(siren_ep, params=siren_params)\n",
    "siren_resp.status_code"
   ]
  },
  {
   "cell_type": "code",
   "execution_count": 3,
   "id": "37eab7c7",
   "metadata": {},
   "outputs": [
    {
     "data": {
      "text/plain": [
       "{'site_name': 'Ezell Road Park',\n",
       " 'address': '5135 Harding Place',\n",
       " 'city': 'Nashville',\n",
       " 'zip': '37211',\n",
       " 'siren_power': 'Eclipse 8',\n",
       " 'location': {'latitude': '36.090944', 'longitude': '-86.686028'},\n",
       " ':@computed_region_gisn_y5cm': '7',\n",
       " ':@computed_region_sjpq_96s8': '15803',\n",
       " ':@computed_region_v3ji_vzam': '2005',\n",
       " ':@computed_region_c9xn_skx3': '18',\n",
       " ':@computed_region_f73m_vb2k': '9'}"
      ]
     },
     "execution_count": 3,
     "metadata": {},
     "output_type": "execute_result"
    }
   ],
   "source": [
    "siren_result = siren_resp.json()\n",
    "siren_result[0]"
   ]
  },
  {
   "cell_type": "markdown",
   "id": "ac65db76",
   "metadata": {},
   "source": [
    "##### Pull in the local event permit API"
   ]
  },
  {
   "cell_type": "code",
   "execution_count": 4,
   "id": "075aab2d",
   "metadata": {},
   "outputs": [
    {
     "data": {
      "text/plain": [
       "200"
      ]
     },
     "execution_count": 4,
     "metadata": {},
     "output_type": "execute_result"
    }
   ],
   "source": [
    "event_ep = 'https://data.nashville.gov/resource/vygj-v677.json'\n",
    "\n",
    "event_params = {\n",
    "    '$limit':200000,\n",
    "    'event_type':'Public'\n",
    "}\n",
    "\n",
    "event_resp = requests.get(event_ep, params=event_params)\n",
    "event_resp.status_code"
   ]
  },
  {
   "cell_type": "code",
   "execution_count": 5,
   "id": "415b9fe7",
   "metadata": {
    "scrolled": true
   },
   "outputs": [
    {
     "data": {
      "text/plain": [
       "{'month': 'January',\n",
       " 'year': '2014',\n",
       " 'event': 'Resolution Run',\n",
       " 'date': '2014-01-04T00:00:00.000',\n",
       " 'event_end_date': '2014-01-04T00:00:00.000',\n",
       " 'attendance': '800',\n",
       " 'location': 'Riverfront Park',\n",
       " 'event_type': 'Public'}"
      ]
     },
     "execution_count": 5,
     "metadata": {},
     "output_type": "execute_result"
    }
   ],
   "source": [
    "event_result = event_resp.json()\n",
    "event_result[0]"
   ]
  },
  {
   "cell_type": "markdown",
   "id": "483ef778",
   "metadata": {},
   "source": [
    "##### Wrangle the data into DataFrames"
   ]
  },
  {
   "cell_type": "code",
   "execution_count": 6,
   "id": "d01009c2",
   "metadata": {
    "scrolled": true
   },
   "outputs": [
    {
     "data": {
      "text/html": [
       "<div>\n",
       "<style scoped>\n",
       "    .dataframe tbody tr th:only-of-type {\n",
       "        vertical-align: middle;\n",
       "    }\n",
       "\n",
       "    .dataframe tbody tr th {\n",
       "        vertical-align: top;\n",
       "    }\n",
       "\n",
       "    .dataframe thead th {\n",
       "        text-align: right;\n",
       "    }\n",
       "</style>\n",
       "<table border=\"1\" class=\"dataframe\">\n",
       "  <thead>\n",
       "    <tr style=\"text-align: right;\">\n",
       "      <th></th>\n",
       "      <th>siren_site</th>\n",
       "      <th>siren_city</th>\n",
       "      <th>siren_type</th>\n",
       "      <th>siren_loc</th>\n",
       "    </tr>\n",
       "  </thead>\n",
       "  <tbody>\n",
       "    <tr>\n",
       "      <th>0</th>\n",
       "      <td>Ezell Road Park</td>\n",
       "      <td>Nashville</td>\n",
       "      <td>Eclipse 8</td>\n",
       "      <td>{'latitude': '36.090944', 'longitude': '-86.68...</td>\n",
       "    </tr>\n",
       "    <tr>\n",
       "      <th>1</th>\n",
       "      <td>Sevier Park</td>\n",
       "      <td>Nashville</td>\n",
       "      <td>Eclipse 8</td>\n",
       "      <td>{'latitude': '36.118861', 'longitude': '-86.78...</td>\n",
       "    </tr>\n",
       "    <tr>\n",
       "      <th>2</th>\n",
       "      <td>Fannie May Dees Park</td>\n",
       "      <td>Nashville</td>\n",
       "      <td>Eclipse 8</td>\n",
       "      <td>{'latitude': '36.136167', 'longitude': '-86.80...</td>\n",
       "    </tr>\n",
       "    <tr>\n",
       "      <th>3</th>\n",
       "      <td>Paragon Mills Park</td>\n",
       "      <td>Nashville</td>\n",
       "      <td>Eclipse 8</td>\n",
       "      <td>{'latitude': '36.235417', 'longitude': '-86.77...</td>\n",
       "    </tr>\n",
       "    <tr>\n",
       "      <th>4</th>\n",
       "      <td>Jere Baxter Alternative</td>\n",
       "      <td>Nashville</td>\n",
       "      <td>Eclipse 8</td>\n",
       "      <td>{'latitude': '36.212694', 'longitude': '-86.73...</td>\n",
       "    </tr>\n",
       "    <tr>\n",
       "      <th>...</th>\n",
       "      <td>...</td>\n",
       "      <td>...</td>\n",
       "      <td>...</td>\n",
       "      <td>...</td>\n",
       "    </tr>\n",
       "    <tr>\n",
       "      <th>88</th>\n",
       "      <td>Coley Davis @ Harpeth Springs Dr.</td>\n",
       "      <td>Nashville</td>\n",
       "      <td>508</td>\n",
       "      <td>{'latitude': '36.073493', 'longitude': '-86.98...</td>\n",
       "    </tr>\n",
       "    <tr>\n",
       "      <th>89</th>\n",
       "      <td>Percy Warner Park Entrance/Golf Course</td>\n",
       "      <td>Nashville</td>\n",
       "      <td>508</td>\n",
       "      <td>{'latitude': '36.081828', 'longitude': '-86.86...</td>\n",
       "    </tr>\n",
       "    <tr>\n",
       "      <th>90</th>\n",
       "      <td>Metro Water Smith Springs Resivoir</td>\n",
       "      <td>Antioch</td>\n",
       "      <td>508</td>\n",
       "      <td>{'latitude': '36.022105', 'longitude': '-86.62...</td>\n",
       "    </tr>\n",
       "    <tr>\n",
       "      <th>91</th>\n",
       "      <td>Old Center Elementary</td>\n",
       "      <td>Nashville</td>\n",
       "      <td>Eclipse 8</td>\n",
       "      <td>{'latitude': '36.079686', 'longitude': '-86.74...</td>\n",
       "    </tr>\n",
       "    <tr>\n",
       "      <th>92</th>\n",
       "      <td>Peay Memorial Park</td>\n",
       "      <td>Goodlettsville</td>\n",
       "      <td>508</td>\n",
       "      <td>{'latitude': '36.089306', 'longitude': '-86.72...</td>\n",
       "    </tr>\n",
       "  </tbody>\n",
       "</table>\n",
       "<p>93 rows × 4 columns</p>\n",
       "</div>"
      ],
      "text/plain": [
       "                                siren_site      siren_city siren_type  \\\n",
       "0                          Ezell Road Park       Nashville  Eclipse 8   \n",
       "1                              Sevier Park       Nashville  Eclipse 8   \n",
       "2                     Fannie May Dees Park       Nashville  Eclipse 8   \n",
       "3                       Paragon Mills Park       Nashville  Eclipse 8   \n",
       "4                  Jere Baxter Alternative       Nashville  Eclipse 8   \n",
       "..                                     ...             ...        ...   \n",
       "88       Coley Davis @ Harpeth Springs Dr.       Nashville        508   \n",
       "89  Percy Warner Park Entrance/Golf Course       Nashville        508   \n",
       "90      Metro Water Smith Springs Resivoir         Antioch        508   \n",
       "91                   Old Center Elementary       Nashville  Eclipse 8   \n",
       "92                      Peay Memorial Park  Goodlettsville        508   \n",
       "\n",
       "                                            siren_loc  \n",
       "0   {'latitude': '36.090944', 'longitude': '-86.68...  \n",
       "1   {'latitude': '36.118861', 'longitude': '-86.78...  \n",
       "2   {'latitude': '36.136167', 'longitude': '-86.80...  \n",
       "3   {'latitude': '36.235417', 'longitude': '-86.77...  \n",
       "4   {'latitude': '36.212694', 'longitude': '-86.73...  \n",
       "..                                                ...  \n",
       "88  {'latitude': '36.073493', 'longitude': '-86.98...  \n",
       "89  {'latitude': '36.081828', 'longitude': '-86.86...  \n",
       "90  {'latitude': '36.022105', 'longitude': '-86.62...  \n",
       "91  {'latitude': '36.079686', 'longitude': '-86.74...  \n",
       "92  {'latitude': '36.089306', 'longitude': '-86.72...  \n",
       "\n",
       "[93 rows x 4 columns]"
      ]
     },
     "execution_count": 6,
     "metadata": {},
     "output_type": "execute_result"
    }
   ],
   "source": [
    "# Populate lists with relevent siren information\n",
    "siren_site = [item.get('site_name') for item in siren_result]\n",
    "siren_city = [item.get('city') for item in siren_result]\n",
    "siren_type = [item.get('siren_power') for item in siren_result]\n",
    "siren_loc = [item.get('location') for item in siren_result]\n",
    "\n",
    "# Create a DataFrame from the lists\n",
    "siren_df = pd.DataFrame(zip(siren_site, siren_city, siren_type, siren_loc), columns=['siren_site', 'siren_city', 'siren_type', 'siren_loc'])\n",
    "siren_df"
   ]
  },
  {
   "cell_type": "code",
   "execution_count": 7,
   "id": "4b217202",
   "metadata": {},
   "outputs": [
    {
     "data": {
      "text/html": [
       "<div>\n",
       "<style scoped>\n",
       "    .dataframe tbody tr th:only-of-type {\n",
       "        vertical-align: middle;\n",
       "    }\n",
       "\n",
       "    .dataframe tbody tr th {\n",
       "        vertical-align: top;\n",
       "    }\n",
       "\n",
       "    .dataframe thead th {\n",
       "        text-align: right;\n",
       "    }\n",
       "</style>\n",
       "<table border=\"1\" class=\"dataframe\">\n",
       "  <thead>\n",
       "    <tr style=\"text-align: right;\">\n",
       "      <th></th>\n",
       "      <th>event_name</th>\n",
       "      <th>event_date</th>\n",
       "      <th>event_size</th>\n",
       "      <th>event_site</th>\n",
       "    </tr>\n",
       "  </thead>\n",
       "  <tbody>\n",
       "    <tr>\n",
       "      <th>0</th>\n",
       "      <td>Resolution Run</td>\n",
       "      <td>01-04-2014</td>\n",
       "      <td>800</td>\n",
       "      <td>Riverfront Park</td>\n",
       "    </tr>\n",
       "    <tr>\n",
       "      <th>1</th>\n",
       "      <td>Cupid's Chase 5k</td>\n",
       "      <td>02-08-2014</td>\n",
       "      <td>400</td>\n",
       "      <td>Shelby Park and Greenway</td>\n",
       "    </tr>\n",
       "    <tr>\n",
       "      <th>2</th>\n",
       "      <td>Hot Chocolate 5K/15K</td>\n",
       "      <td>02-15-2014</td>\n",
       "      <td>10000</td>\n",
       "      <td>Centennial Park</td>\n",
       "    </tr>\n",
       "    <tr>\n",
       "      <th>3</th>\n",
       "      <td>Race Judicata</td>\n",
       "      <td>02-22-2014</td>\n",
       "      <td>500</td>\n",
       "      <td>Warner Park</td>\n",
       "    </tr>\n",
       "    <tr>\n",
       "      <th>4</th>\n",
       "      <td>Mardi Gras Y'all Street Festival</td>\n",
       "      <td>03-01-2014</td>\n",
       "      <td>15000</td>\n",
       "      <td>Riverfront Park</td>\n",
       "    </tr>\n",
       "    <tr>\n",
       "      <th>...</th>\n",
       "      <td>...</td>\n",
       "      <td>...</td>\n",
       "      <td>...</td>\n",
       "      <td>...</td>\n",
       "    </tr>\n",
       "    <tr>\n",
       "      <th>3282</th>\n",
       "      <td>Season to Remember</td>\n",
       "      <td>12-10-2020</td>\n",
       "      <td>200</td>\n",
       "      <td>Centennial Park</td>\n",
       "    </tr>\n",
       "    <tr>\n",
       "      <th>3283</th>\n",
       "      <td>Richland Park Farmers Market</td>\n",
       "      <td>12-12-2020</td>\n",
       "      <td>25</td>\n",
       "      <td>Richland Park</td>\n",
       "    </tr>\n",
       "    <tr>\n",
       "      <th>3284</th>\n",
       "      <td>Shelby Park Pickup Volunteer Event</td>\n",
       "      <td>12-12-2020</td>\n",
       "      <td>50</td>\n",
       "      <td>Shelby Park</td>\n",
       "    </tr>\n",
       "    <tr>\n",
       "      <th>3285</th>\n",
       "      <td>Richland Park Farmers Market</td>\n",
       "      <td>12-19-2020</td>\n",
       "      <td>25</td>\n",
       "      <td>Richland Park</td>\n",
       "    </tr>\n",
       "    <tr>\n",
       "      <th>3286</th>\n",
       "      <td>Richland Park Farmers Market</td>\n",
       "      <td>12-26-2020</td>\n",
       "      <td>25</td>\n",
       "      <td>Richland Park</td>\n",
       "    </tr>\n",
       "  </tbody>\n",
       "</table>\n",
       "<p>3287 rows × 4 columns</p>\n",
       "</div>"
      ],
      "text/plain": [
       "                              event_name  event_date event_size  \\\n",
       "0                         Resolution Run  01-04-2014        800   \n",
       "1                       Cupid's Chase 5k  02-08-2014        400   \n",
       "2                   Hot Chocolate 5K/15K  02-15-2014      10000   \n",
       "3                          Race Judicata  02-22-2014        500   \n",
       "4       Mardi Gras Y'all Street Festival  03-01-2014      15000   \n",
       "...                                  ...         ...        ...   \n",
       "3282                  Season to Remember  12-10-2020        200   \n",
       "3283        Richland Park Farmers Market  12-12-2020         25   \n",
       "3284  Shelby Park Pickup Volunteer Event  12-12-2020         50   \n",
       "3285        Richland Park Farmers Market  12-19-2020         25   \n",
       "3286        Richland Park Farmers Market  12-26-2020         25   \n",
       "\n",
       "                    event_site  \n",
       "0              Riverfront Park  \n",
       "1     Shelby Park and Greenway  \n",
       "2              Centennial Park  \n",
       "3                  Warner Park  \n",
       "4              Riverfront Park  \n",
       "...                        ...  \n",
       "3282           Centennial Park  \n",
       "3283             Richland Park  \n",
       "3284               Shelby Park  \n",
       "3285             Richland Park  \n",
       "3286             Richland Park  \n",
       "\n",
       "[3287 rows x 4 columns]"
      ]
     },
     "execution_count": 7,
     "metadata": {},
     "output_type": "execute_result"
    }
   ],
   "source": [
    "# Populate lists with relevent event information\n",
    "event_name = [item.get('event') for item in event_result]\n",
    "event_size = [item.get('attendance') for item in event_result]\n",
    "event_site = [item.get('location') for item in event_result]\n",
    "\n",
    "# Format the event dates\n",
    "event_date = []\n",
    "for item in event_result:\n",
    "    values = [val.split('-') for val in item.get('date').split('T')][0]\n",
    "    event_date.append('-'.join([values[1], values[2], values[0]]))\n",
    "\n",
    "# Create a DataFrame from the lists\n",
    "event_df = pd.DataFrame(zip(event_name, event_date, event_size, event_site), columns=['event_name', 'event_date', 'event_size', 'event_site'])\n",
    "event_df"
   ]
  },
  {
   "cell_type": "markdown",
   "id": "03d5f2be",
   "metadata": {},
   "source": [
    "##### Merge the DataFrames together using the common site (e.g. park name) column\n",
    "Use an inner merge to only keep events with an on-site siren"
   ]
  },
  {
   "cell_type": "code",
   "execution_count": 8,
   "id": "8cc90b37",
   "metadata": {},
   "outputs": [],
   "source": [
    "event_siren_df = pd.merge(event_df, siren_df, how='inner', left_on='event_site', right_on='siren_site')\n",
    "event_siren_df = event_siren_df[['event_name', 'event_date', 'event_size', 'event_site', 'siren_type']]"
   ]
  },
  {
   "cell_type": "code",
   "execution_count": 9,
   "id": "79ee5b70",
   "metadata": {},
   "outputs": [
    {
     "data": {
      "text/html": [
       "<div>\n",
       "<style scoped>\n",
       "    .dataframe tbody tr th:only-of-type {\n",
       "        vertical-align: middle;\n",
       "    }\n",
       "\n",
       "    .dataframe tbody tr th {\n",
       "        vertical-align: top;\n",
       "    }\n",
       "\n",
       "    .dataframe thead th {\n",
       "        text-align: right;\n",
       "    }\n",
       "</style>\n",
       "<table border=\"1\" class=\"dataframe\">\n",
       "  <thead>\n",
       "    <tr style=\"text-align: right;\">\n",
       "      <th></th>\n",
       "      <th>event_name</th>\n",
       "      <th>event_date</th>\n",
       "      <th>event_size</th>\n",
       "      <th>event_site</th>\n",
       "      <th>siren_type</th>\n",
       "    </tr>\n",
       "  </thead>\n",
       "  <tbody>\n",
       "    <tr>\n",
       "      <th>0</th>\n",
       "      <td>Resolution Run</td>\n",
       "      <td>01-04-2014</td>\n",
       "      <td>800</td>\n",
       "      <td>Riverfront Park</td>\n",
       "      <td>Eclipse 8</td>\n",
       "    </tr>\n",
       "    <tr>\n",
       "      <th>1</th>\n",
       "      <td>Mardi Gras Y'all Street Festival</td>\n",
       "      <td>03-01-2014</td>\n",
       "      <td>15000</td>\n",
       "      <td>Riverfront Park</td>\n",
       "      <td>Eclipse 8</td>\n",
       "    </tr>\n",
       "    <tr>\n",
       "      <th>2</th>\n",
       "      <td>March Against Child Abuse</td>\n",
       "      <td>04-05-2014</td>\n",
       "      <td>50</td>\n",
       "      <td>Riverfront Park</td>\n",
       "      <td>Eclipse 8</td>\n",
       "    </tr>\n",
       "    <tr>\n",
       "      <th>3</th>\n",
       "      <td>Nashville Dancin'</td>\n",
       "      <td>06-12-2014</td>\n",
       "      <td>5000</td>\n",
       "      <td>Riverfront Park</td>\n",
       "      <td>Eclipse 8</td>\n",
       "    </tr>\n",
       "    <tr>\n",
       "      <th>4</th>\n",
       "      <td>Music City Food &amp; Wine Festival</td>\n",
       "      <td>06-14-2014</td>\n",
       "      <td>1000</td>\n",
       "      <td>Riverfront Park</td>\n",
       "      <td>Eclipse 8</td>\n",
       "    </tr>\n",
       "    <tr>\n",
       "      <th>...</th>\n",
       "      <td>...</td>\n",
       "      <td>...</td>\n",
       "      <td>...</td>\n",
       "      <td>...</td>\n",
       "      <td>...</td>\n",
       "    </tr>\n",
       "    <tr>\n",
       "      <th>936</th>\n",
       "      <td>Ride 2 Thrive</td>\n",
       "      <td>06-09-2018</td>\n",
       "      <td>300</td>\n",
       "      <td>Cleveland Park</td>\n",
       "      <td>Eclipse 8</td>\n",
       "    </tr>\n",
       "    <tr>\n",
       "      <th>937</th>\n",
       "      <td>Ride 2 Thrive</td>\n",
       "      <td>04-13-2019</td>\n",
       "      <td>300</td>\n",
       "      <td>Cleveland Park</td>\n",
       "      <td>Eclipse 8</td>\n",
       "    </tr>\n",
       "    <tr>\n",
       "      <th>938</th>\n",
       "      <td>Easter Egg Hunt</td>\n",
       "      <td>04-20-2019</td>\n",
       "      <td>300</td>\n",
       "      <td>Cleveland Park</td>\n",
       "      <td>Eclipse 8</td>\n",
       "    </tr>\n",
       "    <tr>\n",
       "      <th>939</th>\n",
       "      <td>David Fox Birthday Party</td>\n",
       "      <td>08-01-2015</td>\n",
       "      <td>200</td>\n",
       "      <td>McCabe Park</td>\n",
       "      <td>Eclipse 8</td>\n",
       "    </tr>\n",
       "    <tr>\n",
       "      <th>940</th>\n",
       "      <td>Achilles Nashville Hope &amp; Possibility</td>\n",
       "      <td>10-19-2019</td>\n",
       "      <td>250</td>\n",
       "      <td>McCabe Park</td>\n",
       "      <td>Eclipse 8</td>\n",
       "    </tr>\n",
       "  </tbody>\n",
       "</table>\n",
       "<p>941 rows × 5 columns</p>\n",
       "</div>"
      ],
      "text/plain": [
       "                                event_name  event_date event_size  \\\n",
       "0                           Resolution Run  01-04-2014        800   \n",
       "1         Mardi Gras Y'all Street Festival  03-01-2014      15000   \n",
       "2                March Against Child Abuse  04-05-2014         50   \n",
       "3                        Nashville Dancin'  06-12-2014       5000   \n",
       "4          Music City Food & Wine Festival  06-14-2014       1000   \n",
       "..                                     ...         ...        ...   \n",
       "936                          Ride 2 Thrive  06-09-2018        300   \n",
       "937                          Ride 2 Thrive  04-13-2019        300   \n",
       "938                        Easter Egg Hunt  04-20-2019        300   \n",
       "939               David Fox Birthday Party  08-01-2015        200   \n",
       "940  Achilles Nashville Hope & Possibility  10-19-2019        250   \n",
       "\n",
       "          event_site siren_type  \n",
       "0    Riverfront Park  Eclipse 8  \n",
       "1    Riverfront Park  Eclipse 8  \n",
       "2    Riverfront Park  Eclipse 8  \n",
       "3    Riverfront Park  Eclipse 8  \n",
       "4    Riverfront Park  Eclipse 8  \n",
       "..               ...        ...  \n",
       "936   Cleveland Park  Eclipse 8  \n",
       "937   Cleveland Park  Eclipse 8  \n",
       "938   Cleveland Park  Eclipse 8  \n",
       "939      McCabe Park  Eclipse 8  \n",
       "940      McCabe Park  Eclipse 8  \n",
       "\n",
       "[941 rows x 5 columns]"
      ]
     },
     "execution_count": 9,
     "metadata": {},
     "output_type": "execute_result"
    }
   ],
   "source": [
    "event_siren_df"
   ]
  },
  {
   "cell_type": "code",
   "execution_count": 10,
   "id": "16695172",
   "metadata": {},
   "outputs": [
    {
     "name": "stdout",
     "output_type": "stream",
     "text": [
      "{'508', 'Eclipse 8'}\n"
     ]
    }
   ],
   "source": [
    "# Examine the unique types of sirens used\n",
    "siren_types = set(event_siren_df.siren_type)\n",
    "print(siren_types)"
   ]
  },
  {
   "cell_type": "code",
   "execution_count": 11,
   "id": "3288939a",
   "metadata": {},
   "outputs": [
    {
     "name": "stdout",
     "output_type": "stream",
     "text": [
      "{'Riverfront Park', 'McCabe Park', 'William Whitfield Park', 'Richland Park', 'Hartman Park', 'Hadley Park', 'Edwin Warner Park', 'Sevier Park', 'Paragon Mills Park', 'Cleveland Park', 'Parkwood Park', 'Two Rivers Park', 'Cane Ridge Park', 'Madison Park', 'Fort Negley', 'Shelby Park', 'Cedar Hill Park', 'Centennial Park'}\n"
     ]
    }
   ],
   "source": [
    "# Examine the unique event locations\n",
    "event_spots = set(event_siren_df.event_site)\n",
    "print(event_spots)"
   ]
  },
  {
   "cell_type": "markdown",
   "id": "6b4e8d67",
   "metadata": {},
   "source": [
    "##### Filter for (and then plot) the top-5 most happening sites"
   ]
  },
  {
   "cell_type": "code",
   "execution_count": 12,
   "id": "16211087",
   "metadata": {},
   "outputs": [
    {
     "data": {
      "text/html": [
       "<div>\n",
       "<style scoped>\n",
       "    .dataframe tbody tr th:only-of-type {\n",
       "        vertical-align: middle;\n",
       "    }\n",
       "\n",
       "    .dataframe tbody tr th {\n",
       "        vertical-align: top;\n",
       "    }\n",
       "\n",
       "    .dataframe thead th {\n",
       "        text-align: right;\n",
       "    }\n",
       "</style>\n",
       "<table border=\"1\" class=\"dataframe\">\n",
       "  <thead>\n",
       "    <tr style=\"text-align: right;\">\n",
       "      <th></th>\n",
       "      <th>event_site</th>\n",
       "      <th>events</th>\n",
       "    </tr>\n",
       "  </thead>\n",
       "  <tbody>\n",
       "    <tr>\n",
       "      <th>0</th>\n",
       "      <td>Richland Park</td>\n",
       "      <td>316</td>\n",
       "    </tr>\n",
       "    <tr>\n",
       "      <th>1</th>\n",
       "      <td>Sevier Park</td>\n",
       "      <td>247</td>\n",
       "    </tr>\n",
       "    <tr>\n",
       "      <th>2</th>\n",
       "      <td>Shelby Park</td>\n",
       "      <td>131</td>\n",
       "    </tr>\n",
       "    <tr>\n",
       "      <th>3</th>\n",
       "      <td>Riverfront Park</td>\n",
       "      <td>64</td>\n",
       "    </tr>\n",
       "    <tr>\n",
       "      <th>4</th>\n",
       "      <td>Two Rivers Park</td>\n",
       "      <td>47</td>\n",
       "    </tr>\n",
       "  </tbody>\n",
       "</table>\n",
       "</div>"
      ],
      "text/plain": [
       "        event_site  events\n",
       "0    Richland Park     316\n",
       "1      Sevier Park     247\n",
       "2      Shelby Park     131\n",
       "3  Riverfront Park      64\n",
       "4  Two Rivers Park      47"
      ]
     },
     "execution_count": 12,
     "metadata": {},
     "output_type": "execute_result"
    }
   ],
   "source": [
    "siren_event_df = pd.DataFrame(event_siren_df.event_site.value_counts().head()).reset_index()\n",
    "siren_event_df.rename(columns={'index':'event_site', 'event_site':'events'}, inplace=True)\n",
    "siren_event_df"
   ]
  },
  {
   "cell_type": "code",
   "execution_count": 13,
   "id": "fc8d2d31",
   "metadata": {},
   "outputs": [
    {
     "data": {
      "text/plain": [
       "(array([0, 1, 2, 3, 4]),\n",
       " [Text(0, 0, 'Richland Park'),\n",
       "  Text(1, 0, 'Sevier Park'),\n",
       "  Text(2, 0, 'Shelby Park'),\n",
       "  Text(3, 0, 'Riverfront Park'),\n",
       "  Text(4, 0, 'Two Rivers Park')])"
      ]
     },
     "execution_count": 13,
     "metadata": {},
     "output_type": "execute_result"
    },
    {
     "data": {
      "image/png": "[encoded data removed]",
      "text/plain": [
       "<Figure size 640x480 with 1 Axes>"
      ]
     },
     "metadata": {},
     "output_type": "display_data"
    }
   ],
   "source": [
    "fig = sns.barplot(data=siren_event_df, x='event_site', y='events', color='purple')\n",
    "fig.set(title='Most Happening Event Locations\\nwith On-Site Tornado Sirens', xlabel='Event Site', ylabel='Events')\n",
    "plt.xticks(rotation=25)"
   ]
  },
  {
   "cell_type": "markdown",
   "id": "74b27dad",
   "metadata": {},
   "source": [
    "<hr>"
   ]
  }
 ],
 "metadata": {
  "kernelspec": {
   "display_name": "Python 3 (ipykernel)",
   "language": "python",
   "name": "python3"
  },
  "language_info": {
   "codemirror_mode": {
    "name": "ipython",
    "version": 3
   },
   "file_extension": ".py",
   "mimetype": "text/x-python",
   "name": "python",
   "nbconvert_exporter": "python",
   "pygments_lexer": "ipython3",
   "version": "3.9.13"
  }
 },
 "nbformat": 4,
 "nbformat_minor": 5
}
