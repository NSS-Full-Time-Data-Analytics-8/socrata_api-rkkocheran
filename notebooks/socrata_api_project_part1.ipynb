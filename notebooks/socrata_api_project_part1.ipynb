{
 "cells": [
  {
   "cell_type": "markdown",
   "id": "4d644624",
   "metadata": {},
   "source": [
    "# Socrata API Project"
   ]
  },
  {
   "cell_type": "markdown",
   "id": "2c54b2cf",
   "metadata": {},
   "source": [
    "This notebook uses the `requests` package and the SODA API to access data through https://data.nashville.gov/. It begins with [Top 500 Monthly Searches](https://data.nashville.gov/Public-Services/Nashville-gov-Top-500-Monthly-Searches/fuaa-r5cm), then pulls in different datasets further on."
   ]
  },
  {
   "cell_type": "code",
   "execution_count": 1,
   "id": "1bae0d72",
   "metadata": {},
   "outputs": [],
   "source": [
    "import requests\n",
    "import pandas as pd\n",
    "from time import strptime\n",
    "import matplotlib.pyplot as plt\n",
    "import seaborn as sns\n",
    "import string\n",
    "\n",
    "%matplotlib inline"
   ]
  },
  {
   "cell_type": "markdown",
   "id": "0eab1255",
   "metadata": {},
   "source": [
    "### Make an API request that returns the months where \"fire\" was searched in 2016. Which month had the most searches?"
   ]
  },
  {
   "cell_type": "markdown",
   "id": "a9ee186f",
   "metadata": {},
   "source": [
    "##### Establish the endpoint url"
   ]
  },
  {
   "cell_type": "code",
   "execution_count": 2,
   "id": "e5a34235",
   "metadata": {},
   "outputs": [],
   "source": [
    "endpoint = 'https://data.nashville.gov/resource/fuaa-r5cm.json'"
   ]
  },
  {
   "cell_type": "markdown",
   "id": "c2648c5b",
   "metadata": {},
   "source": [
    "##### Read in the webpage's html and check the response code"
   ]
  },
  {
   "cell_type": "code",
   "execution_count": 3,
   "id": "52681d07",
   "metadata": {},
   "outputs": [
    {
     "data": {
      "text/plain": [
       "200"
      ]
     },
     "execution_count": 3,
     "metadata": {},
     "output_type": "execute_result"
    }
   ],
   "source": [
    "params1 = {\n",
    "    'year':'2016',\n",
    "    'query_text':'fire',\n",
    "    '$limit':100000\n",
    "}\n",
    "\n",
    "response = requests.get(endpoint, params=params1)\n",
    "response.status_code"
   ]
  },
  {
   "cell_type": "markdown",
   "id": "ecb11733",
   "metadata": {},
   "source": [
    "##### Convert the html to a JSON (essentially a dictionary of dictionaries)"
   ]
  },
  {
   "cell_type": "code",
   "execution_count": 4,
   "id": "064ee174",
   "metadata": {
    "scrolled": true
   },
   "outputs": [
    {
     "data": {
      "text/plain": [
       "[{'month_name': 'January',\n",
       "  'year': '2016',\n",
       "  'query_count': '19',\n",
       "  'query_text': 'fire'},\n",
       " {'month_name': 'February',\n",
       "  'year': '2016',\n",
       "  'query_count': '35',\n",
       "  'query_text': 'fire'},\n",
       " {'month_name': 'March',\n",
       "  'year': '2016',\n",
       "  'query_count': '32',\n",
       "  'query_text': 'fire'}]"
      ]
     },
     "execution_count": 4,
     "metadata": {},
     "output_type": "execute_result"
    }
   ],
   "source": [
    "result = response.json()\n",
    "result[0:3]"
   ]
  },
  {
   "cell_type": "markdown",
   "id": "6f313b80",
   "metadata": {},
   "source": [
    "##### Explore the result (e.g what keys are available for each entry?)"
   ]
  },
  {
   "cell_type": "code",
   "execution_count": 5,
   "id": "526de678",
   "metadata": {
    "scrolled": true
   },
   "outputs": [
    {
     "data": {
      "text/plain": [
       "dict_keys(['month_name', 'year', 'query_count', 'query_text'])"
      ]
     },
     "execution_count": 5,
     "metadata": {},
     "output_type": "execute_result"
    }
   ],
   "source": [
    "result[0].keys()"
   ]
  },
  {
   "cell_type": "code",
   "execution_count": 6,
   "id": "98b9913c",
   "metadata": {},
   "outputs": [
    {
     "name": "stdout",
     "output_type": "stream",
     "text": [
      "<class 'str'>\n"
     ]
    }
   ],
   "source": [
    "print(type(result[0]['year']))"
   ]
  },
  {
   "cell_type": "code",
   "execution_count": 7,
   "id": "51d0ed4b",
   "metadata": {},
   "outputs": [
    {
     "data": {
      "text/plain": [
       "'fire'"
      ]
     },
     "execution_count": 7,
     "metadata": {},
     "output_type": "execute_result"
    }
   ],
   "source": [
    "result[0]['query_text']"
   ]
  },
  {
   "cell_type": "code",
   "execution_count": 8,
   "id": "227cc435",
   "metadata": {},
   "outputs": [
    {
     "data": {
      "text/plain": [
       "12"
      ]
     },
     "execution_count": 8,
     "metadata": {},
     "output_type": "execute_result"
    }
   ],
   "source": [
    "len(result)"
   ]
  },
  {
   "cell_type": "code",
   "execution_count": 9,
   "id": "544103db",
   "metadata": {},
   "outputs": [
    {
     "name": "stdout",
     "output_type": "stream",
     "text": [
      "{'month_name': 'January', 'year': '2016', 'query_count': '19', 'query_text': 'fire'}\n",
      "{'month_name': 'February', 'year': '2016', 'query_count': '35', 'query_text': 'fire'}\n",
      "{'month_name': 'March', 'year': '2016', 'query_count': '32', 'query_text': 'fire'}\n",
      "{'month_name': 'April', 'year': '2016', 'query_count': '26', 'query_text': 'fire'}\n",
      "{'month_name': 'May', 'year': '2016', 'query_count': '24', 'query_text': 'fire'}\n",
      "{'month_name': 'June', 'year': '2016', 'query_count': '31', 'query_text': 'fire'}\n",
      "{'month_name': 'July', 'year': '2016', 'query_count': '24', 'query_text': 'fire'}\n",
      "{'month_name': 'August', 'year': '2016', 'query_count': '47', 'query_text': 'fire'}\n",
      "{'month_name': 'September', 'year': '2016', 'query_count': '36', 'query_text': 'fire'}\n",
      "{'month_name': 'October', 'year': '2016', 'query_count': '38', 'query_text': 'fire'}\n",
      "{'month_name': 'November', 'year': '2016', 'query_count': '32', 'query_text': 'fire'}\n",
      "{'month_name': 'December', 'year': '2016', 'query_count': '38', 'query_text': 'fire'}\n"
     ]
    }
   ],
   "source": [
    "for item in result:\n",
    "    print(item)"
   ]
  },
  {
   "cell_type": "markdown",
   "id": "b5045f81",
   "metadata": {},
   "source": [
    "##### Find the month with the most searches of \"fire\""
   ]
  },
  {
   "cell_type": "code",
   "execution_count": 10,
   "id": "df33a1c9",
   "metadata": {},
   "outputs": [
    {
     "data": {
      "text/plain": [
       "'47'"
      ]
     },
     "execution_count": 10,
     "metadata": {},
     "output_type": "execute_result"
    }
   ],
   "source": [
    "# Find the max number of searches\n",
    "max(item.get('query_count') for item in result)"
   ]
  },
  {
   "cell_type": "code",
   "execution_count": 11,
   "id": "cf722944",
   "metadata": {},
   "outputs": [
    {
     "name": "stdout",
     "output_type": "stream",
     "text": [
      "The month(s) with the highest number of searches for \"fire\":\n",
      "August\n"
     ]
    }
   ],
   "source": [
    "# Find the month(s) with the max number of searches\n",
    "max_months = [item.get('month_name') for item in result if item.get('query_count') == max(item.get('query_count') for item in result)]\n",
    "\n",
    "print('The month(s) with the highest number of searches for \"fire\":')\n",
    "for mo in max_months:\n",
    "    print (mo)"
   ]
  },
  {
   "cell_type": "markdown",
   "id": "0428c288",
   "metadata": {},
   "source": [
    "#### Answer: The month(s) with the highest number of searches for \"fire\": August.\n",
    "<hr>"
   ]
  },
  {
   "cell_type": "markdown",
   "id": "30efe25e",
   "metadata": {},
   "source": [
    "### Make an API request that returns all the times a query was run more than 100 times in a month. How many times did this occur?"
   ]
  },
  {
   "cell_type": "code",
   "execution_count": 12,
   "id": "75ca6aa1",
   "metadata": {},
   "outputs": [
    {
     "data": {
      "text/plain": [
       "200"
      ]
     },
     "execution_count": 12,
     "metadata": {},
     "output_type": "execute_result"
    }
   ],
   "source": [
    "params2 = {\n",
    "    '$limit':100000,\n",
    "    '$where':'query_count > 100'\n",
    "}\n",
    "\n",
    "response = requests.get(endpoint, params=params2)\n",
    "response.status_code"
   ]
  },
  {
   "cell_type": "code",
   "execution_count": 13,
   "id": "27d46c68",
   "metadata": {},
   "outputs": [
    {
     "data": {
      "text/plain": [
       "[{'month_name': 'March',\n",
       "  'year': '2014',\n",
       "  'query_count': '101',\n",
       "  'query_text': 'permits'},\n",
       " {'month_name': 'January',\n",
       "  'year': '2015',\n",
       "  'query_count': '101',\n",
       "  'query_text': 'criminal court clerk'},\n",
       " {'month_name': 'September',\n",
       "  'year': '2015',\n",
       "  'query_count': '101',\n",
       "  'query_text': 'codes'}]"
      ]
     },
     "execution_count": 13,
     "metadata": {},
     "output_type": "execute_result"
    }
   ],
   "source": [
    "result = response.json()\n",
    "result[0:3]"
   ]
  },
  {
   "cell_type": "code",
   "execution_count": 14,
   "id": "3f0c0d70",
   "metadata": {
    "scrolled": false
   },
   "outputs": [
    {
     "name": "stdout",
     "output_type": "stream",
     "text": [
      "The number of times a query was run more than 100 times in a single month is 1262.\n"
     ]
    }
   ],
   "source": [
    "print('The number of times a query was run more than 100 times in a single month is', str(len(result)) + '.')"
   ]
  },
  {
   "cell_type": "markdown",
   "id": "f48fc55e",
   "metadata": {},
   "source": [
    "#### Answer: The number of times a query was run more than 100 times in a single month is 1262.\n",
    "<hr>"
   ]
  },
  {
   "cell_type": "markdown",
   "id": "00c0f683",
   "metadata": {},
   "source": [
    "### Make another API request that returns all the times \"codes\" was searched more than 100 times in a month. How many times did this occur? "
   ]
  },
  {
   "cell_type": "code",
   "execution_count": 15,
   "id": "c556cde3",
   "metadata": {},
   "outputs": [
    {
     "data": {
      "text/plain": [
       "200"
      ]
     },
     "execution_count": 15,
     "metadata": {},
     "output_type": "execute_result"
    }
   ],
   "source": [
    "params3 = {\n",
    "    '$limit':100000,\n",
    "    'query_text':'codes',\n",
    "    '$where':'query_count > 100'\n",
    "}\n",
    "\n",
    "response = requests.get(endpoint, params=params3)\n",
    "response.status_code"
   ]
  },
  {
   "cell_type": "code",
   "execution_count": 16,
   "id": "4a99cd47",
   "metadata": {},
   "outputs": [
    {
     "data": {
      "text/plain": [
       "[{'month_name': 'September',\n",
       "  'year': '2015',\n",
       "  'query_count': '101',\n",
       "  'query_text': 'codes'},\n",
       " {'month_name': 'April',\n",
       "  'month': '4',\n",
       "  'year': '2021',\n",
       "  'query_count': '102',\n",
       "  'query_text': 'codes'},\n",
       " {'month_name': 'August',\n",
       "  'year': '2016',\n",
       "  'query_count': '104',\n",
       "  'query_text': 'codes'}]"
      ]
     },
     "execution_count": 16,
     "metadata": {},
     "output_type": "execute_result"
    }
   ],
   "source": [
    "result = response.json()\n",
    "result[0:3]"
   ]
  },
  {
   "cell_type": "code",
   "execution_count": 17,
   "id": "6711f172",
   "metadata": {
    "scrolled": true
   },
   "outputs": [
    {
     "name": "stdout",
     "output_type": "stream",
     "text": [
      "The number of times the query, \"codes\", was run more than 100 times in a single month is 56.\n"
     ]
    }
   ],
   "source": [
    "print('The number of times the query, \"codes\", was run more than 100 times in a single month is', str(len(result)) + '.')"
   ]
  },
  {
   "cell_type": "markdown",
   "id": "da5e1b33",
   "metadata": {},
   "source": [
    "#### Answer: The number of times the query, \"codes\", was run more than 100 times in a single month is 56.\n",
    "<hr>"
   ]
  },
  {
   "cell_type": "markdown",
   "id": "5e2cccaa",
   "metadata": {},
   "source": [
    "### Make an API request that returns the entire Top 500 Monthly Searches dataset. Make a chart that shows the number of times \"maps\" was searched in a month across the entire time frame."
   ]
  },
  {
   "cell_type": "markdown",
   "id": "bbe3e62a",
   "metadata": {},
   "source": [
    "##### Pull in the API data"
   ]
  },
  {
   "cell_type": "code",
   "execution_count": 18,
   "id": "6fe311af",
   "metadata": {},
   "outputs": [],
   "source": [
    "params4 = {\n",
    "    '$limit':100000,\n",
    "    'query_text':'maps'\n",
    "}"
   ]
  },
  {
   "cell_type": "code",
   "execution_count": 19,
   "id": "db4ba743",
   "metadata": {},
   "outputs": [
    {
     "data": {
      "text/plain": [
       "200"
      ]
     },
     "execution_count": 19,
     "metadata": {},
     "output_type": "execute_result"
    }
   ],
   "source": [
    "response = requests.get(endpoint, params=params4)\n",
    "response.status_code"
   ]
  },
  {
   "cell_type": "code",
   "execution_count": 20,
   "id": "d5347288",
   "metadata": {},
   "outputs": [
    {
     "data": {
      "text/plain": [
       "[{'month_name': 'January',\n",
       "  'year': '2014',\n",
       "  'query_count': '97',\n",
       "  'query_text': 'maps'},\n",
       " {'month_name': 'February',\n",
       "  'year': '2014',\n",
       "  'query_count': '140',\n",
       "  'query_text': 'maps'},\n",
       " {'month_name': 'March',\n",
       "  'year': '2014',\n",
       "  'query_count': '144',\n",
       "  'query_text': 'maps'}]"
      ]
     },
     "execution_count": 20,
     "metadata": {},
     "output_type": "execute_result"
    }
   ],
   "source": [
    "result = response.json()\n",
    "result[0:3]"
   ]
  },
  {
   "cell_type": "markdown",
   "id": "1da3d48d",
   "metadata": {},
   "source": [
    "##### Explore the result"
   ]
  },
  {
   "cell_type": "code",
   "execution_count": 21,
   "id": "d2e0d749",
   "metadata": {
    "scrolled": true
   },
   "outputs": [
    {
     "data": {
      "text/plain": [
       "82"
      ]
     },
     "execution_count": 21,
     "metadata": {},
     "output_type": "execute_result"
    }
   ],
   "source": [
    "len(result)"
   ]
  },
  {
   "cell_type": "code",
   "execution_count": 22,
   "id": "5b0e8b17",
   "metadata": {},
   "outputs": [
    {
     "data": {
      "text/plain": [
       "int"
      ]
     },
     "execution_count": 22,
     "metadata": {},
     "output_type": "execute_result"
    }
   ],
   "source": [
    "type(strptime(result[0].get('month_name'), '%B').tm_mon)"
   ]
  },
  {
   "cell_type": "code",
   "execution_count": 23,
   "id": "966636fe",
   "metadata": {},
   "outputs": [
    {
     "data": {
      "text/plain": [
       "str"
      ]
     },
     "execution_count": 23,
     "metadata": {},
     "output_type": "execute_result"
    }
   ],
   "source": [
    "type(result[0].get('year'))"
   ]
  },
  {
   "cell_type": "code",
   "execution_count": 24,
   "id": "067b2d55",
   "metadata": {},
   "outputs": [
    {
     "data": {
      "text/plain": [
       "str"
      ]
     },
     "execution_count": 24,
     "metadata": {},
     "output_type": "execute_result"
    }
   ],
   "source": [
    "type(result[0].get('query_count'))"
   ]
  },
  {
   "cell_type": "markdown",
   "id": "98274c52",
   "metadata": {},
   "source": [
    "##### Extract (and format) the dates and counts"
   ]
  },
  {
   "cell_type": "code",
   "execution_count": 25,
   "id": "c5f4af56",
   "metadata": {},
   "outputs": [],
   "source": [
    "date_list = ([item.get('year') + '-' + str(strptime(item.get('month_name'), '%B').tm_mon)\n",
    "               if strptime(item['month_name'], '%B').tm_mon > 9 \n",
    "               else item.get('year') + '-0' + str(strptime(item.get('month_name'), '%B').tm_mon)\n",
    "               for item in result])\n",
    "\n",
    "count_list = [int(item.get('query_count')) for item in result]"
   ]
  },
  {
   "cell_type": "code",
   "execution_count": 26,
   "id": "3a20fd8e",
   "metadata": {},
   "outputs": [],
   "source": [
    "query_df = pd.DataFrame(zip(date_list, count_list), columns=['date', 'queries'])\n",
    "query_df = query_df.sort_values(by='date').reset_index(drop=True)"
   ]
  },
  {
   "cell_type": "markdown",
   "id": "7bbd477e",
   "metadata": {},
   "source": [
    "##### Plot the result!"
   ]
  },
  {
   "cell_type": "code",
   "execution_count": 27,
   "id": "adf964f2",
   "metadata": {},
   "outputs": [
    {
     "data": {
      "image/png": "[encoded data removed]",
      "text/plain": [
       "<Figure size 640x480 with 1 Axes>"
      ]
     },
     "metadata": {},
     "output_type": "display_data"
    }
   ],
   "source": [
    "fig = sns.lineplot(x='date', y='queries', data=query_df)\n",
    "sns.set(rc={'figure.figsize':(15,10)})\n",
    "fig.set(title='Queries for \"Maps\"\\n2014-2021', xlabel='Date\\n(YYYY-MM)', ylabel='Queries')\n",
    "plt.xticks(rotation=90)\n",
    "plt.grid(which='major', axis='y')"
   ]
  },
  {
   "cell_type": "markdown",
   "id": "4b5694ea",
   "metadata": {},
   "source": [
    "<hr>"
   ]
  },
  {
   "cell_type": "markdown",
   "id": "26a096f8",
   "metadata": {},
   "source": [
    "### Make an API request to pull back all the data from [hubNashville (311) Service Requests](https://data.nashville.gov/Public-Services/hubNashville-311-Service-Requests/7qhx-rexh) (check to see how many rows you can return in a single request). Compare it to the Top 500 Monthly Searches data set. What do you observe? (This is open-ended, there isn't a specific answer for this one)  "
   ]
  },
  {
   "cell_type": "markdown",
   "id": "3bae0b22",
   "metadata": {},
   "source": [
    "##### Answer: You can pull in ALOT of rows (300k took ~8sec to pull in.)"
   ]
  },
  {
   "cell_type": "code",
   "execution_count": 28,
   "id": "ea74f541",
   "metadata": {},
   "outputs": [
    {
     "data": {
      "text/plain": [
       "200"
      ]
     },
     "execution_count": 28,
     "metadata": {},
     "output_type": "execute_result"
    }
   ],
   "source": [
    "endpoint311 = 'https://data.nashville.gov/resource/7qhx-rexh.json'\n",
    "\n",
    "params311 = {\n",
    "    '$limit':100000\n",
    "}\n",
    "response311 = requests.get(endpoint311, params=params311)\n",
    "response311.status_code"
   ]
  },
  {
   "cell_type": "code",
   "execution_count": 29,
   "id": "e467f63c",
   "metadata": {
    "scrolled": false
   },
   "outputs": [
    {
     "data": {
      "text/plain": [
       "100000"
      ]
     },
     "execution_count": 29,
     "metadata": {},
     "output_type": "execute_result"
    }
   ],
   "source": [
    "result311 = response311.json()\n",
    "len(result311)"
   ]
  },
  {
   "cell_type": "code",
   "execution_count": 30,
   "id": "d5c361e5",
   "metadata": {},
   "outputs": [
    {
     "data": {
      "text/plain": [
       "{'case_number': '966190',\n",
       " 'status': 'Closed',\n",
       " 'case_request': 'Resolved by hubNashville on First Call',\n",
       " 'case_subrequest': 'Resolved by hubNashville on First Call',\n",
       " 'additional_subrequest': 'Resolved by hubNashville on First Call',\n",
       " 'date_time_opened': '2022-05-04T17:54:30.000',\n",
       " 'date_time_closed': '2022-05-04T17:54:30.000',\n",
       " 'case_origin': 'Phone',\n",
       " 'state_issue': 'False',\n",
       " 'closed_when_created': 'True',\n",
       " 'incident_address': '1301 Pilgrim Dr',\n",
       " 'incident_city': 'MADISON',\n",
       " 'incident_council_district': '8',\n",
       " 'incident_zip_code': '37115',\n",
       " 'latitude': '36.2718801',\n",
       " 'longitude': '-86.7175492',\n",
       " 'mapped_location': {'latitude': '36.2718801', 'longitude': '-86.7175492'},\n",
       " ':@computed_region_wvby_4s8j': '1',\n",
       " ':@computed_region_3aw5_2wv7': '1',\n",
       " ':@computed_region_p6sk_2acq': '3',\n",
       " ':@computed_region_gxvr_9jxz': '12',\n",
       " ':@computed_region_yf9r_ed6g': '3',\n",
       " ':@computed_region_fvtq_wnma': '26',\n",
       " ':@computed_region_s8bq_67w7': '3',\n",
       " ':@computed_region_v67z_xm3t': '2',\n",
       " ':@computed_region_kh5x_g7w5': '3',\n",
       " ':@computed_region_cfa7_hbpz': '71',\n",
       " ':@computed_region_sjpq_96s8': '1527',\n",
       " ':@computed_region_gisn_y5cm': '4',\n",
       " ':@computed_region_b9k3_hpc2': '2'}"
      ]
     },
     "execution_count": 30,
     "metadata": {},
     "output_type": "execute_result"
    }
   ],
   "source": [
    "result311[0]"
   ]
  },
  {
   "cell_type": "code",
   "execution_count": 31,
   "id": "c21281d3",
   "metadata": {
    "scrolled": true
   },
   "outputs": [
    {
     "data": {
      "text/plain": [
       "dict_keys(['case_number', 'status', 'case_request', 'case_subrequest', 'additional_subrequest', 'date_time_opened', 'date_time_closed', 'case_origin', 'state_issue', 'closed_when_created', 'incident_address', 'incident_city', 'incident_council_district', 'incident_zip_code', 'latitude', 'longitude', 'mapped_location', ':@computed_region_wvby_4s8j', ':@computed_region_3aw5_2wv7', ':@computed_region_p6sk_2acq', ':@computed_region_gxvr_9jxz', ':@computed_region_yf9r_ed6g', ':@computed_region_fvtq_wnma', ':@computed_region_s8bq_67w7', ':@computed_region_v67z_xm3t', ':@computed_region_kh5x_g7w5', ':@computed_region_cfa7_hbpz', ':@computed_region_sjpq_96s8', ':@computed_region_gisn_y5cm', ':@computed_region_b9k3_hpc2'])"
      ]
     },
     "execution_count": 31,
     "metadata": {},
     "output_type": "execute_result"
    }
   ],
   "source": [
    "result311[0].keys()"
   ]
  },
  {
   "cell_type": "code",
   "execution_count": 32,
   "id": "33339566",
   "metadata": {
    "scrolled": false
   },
   "outputs": [
    {
     "name": "stdout",
     "output_type": "stream",
     "text": [
      "{'HERMITAGE', 'JOELTON', 'GOODLETTSVILLE', 'LA VERGNE', 'NASHVILLE', 'WHITES CREEK', 'ASHLAND CITY', 'PEGRAM', 'FRANKLIN', 'BRENTWOOD', 'NOLENSVILLE', 'MADISON', 'ANTIOCH', 'OLD HICKORY', 'MOUNT JULIET', 'NO CITY', 'LAVERGNE'}\n"
     ]
    }
   ],
   "source": [
    "city_list = ['NO CITY' if item.get('incident_city') is None else item.get('incident_city').upper() for item in result311]\n",
    "city_set = set(city_list)\n",
    "print(city_set)"
   ]
  },
  {
   "cell_type": "markdown",
   "id": "ac2bf42c",
   "metadata": {},
   "source": [
    "<hr>"
   ]
  }
 ],
 "metadata": {
  "kernelspec": {
   "display_name": "Python 3 (ipykernel)",
   "language": "python",
   "name": "python3"
  },
  "language_info": {
   "codemirror_mode": {
    "name": "ipython",
    "version": 3
   },
   "file_extension": ".py",
   "mimetype": "text/x-python",
   "name": "python",
   "nbconvert_exporter": "python",
   "pygments_lexer": "ipython3",
   "version": "3.9.13"
  }
 },
 "nbformat": 4,
 "nbformat_minor": 5
}
